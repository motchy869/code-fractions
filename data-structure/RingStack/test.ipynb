{
 "cells": [
  {
   "cell_type": "code",
   "execution_count": 1,
   "metadata": {},
   "outputs": [
    {
     "data": {
      "text/plain": [
       "Main.RingStack"
      ]
     },
     "execution_count": 1,
     "metadata": {},
     "output_type": "execute_result"
    }
   ],
   "source": [
    "include(\"RingStack_0.3.1.jl\")"
   ]
  },
  {
   "cell_type": "code",
   "execution_count": 2,
   "metadata": {},
   "outputs": [
    {
     "data": {
      "text/plain": [
       "Main.RingStack.State{Int8}(5, Int8[0, 0, 0, 0, 0], 1)"
      ]
     },
     "execution_count": 2,
     "metadata": {},
     "output_type": "execute_result"
    }
   ],
   "source": [
    "N = 5\n",
    "rs = RingStack.State{Int8}(N)"
   ]
  },
  {
   "cell_type": "code",
   "execution_count": 3,
   "metadata": {},
   "outputs": [
    {
     "name": "stdout",
     "output_type": "stream",
     "text": [
      "rs: Main.RingStack.State{Int8}(5, Int8[1, 2, 3, 4, 5], 1)\n"
     ]
    }
   ],
   "source": [
    "for i in 1:N\n",
    "    RingStack.push!(rs, Int8(i))\n",
    "end\n",
    "\n",
    "println(\"rs: $(rs)\")\n",
    "\n",
    "@assert rs.buffer == [1, 2, 3, 4, 5]\n",
    "@assert rs.index == (N+1) % N"
   ]
  },
  {
   "cell_type": "code",
   "execution_count": 4,
   "metadata": {},
   "outputs": [
    {
     "name": "stdout",
     "output_type": "stream",
     "text": [
      "seq: Int8[5, 4, 3, 2, 1]\n",
      "rs: Main.RingStack.State{Int8}(5, Int8[1, 2, 3, 4, 5], 1)\n"
     ]
    }
   ],
   "source": [
    "let\n",
    "    seq = [RingStack.pop!(rs) for i in 1:N]\n",
    "\n",
    "    println(\"seq: $(seq)\")\n",
    "    println(\"rs: $(rs)\")\n",
    "\n",
    "    @assert seq == [5, 4, 3, 2, 1]\n",
    "    @assert rs.buffer == [1, 2, 3, 4, 5]\n",
    "    @assert rs.index == (N+1) % N\n",
    "end"
   ]
  },
  {
   "cell_type": "code",
   "execution_count": 5,
   "metadata": {},
   "outputs": [
    {
     "name": "stdout",
     "output_type": "stream",
     "text": [
      "rs: Main.RingStack.State{Int8}(5, Int8[6, 7, 8, 4, 5], 4)\n"
     ]
    }
   ],
   "source": [
    "for i in 1:3\n",
    "    RingStack.push!(rs, Int8(N+i))\n",
    "end\n",
    "\n",
    "println(\"rs: $(rs)\")\n",
    "\n",
    "@assert rs.buffer == [6, 7, 8, 4, 5]\n",
    "@assert rs.index == 4"
   ]
  },
  {
   "cell_type": "code",
   "execution_count": 6,
   "metadata": {},
   "outputs": [
    {
     "name": "stdout",
     "output_type": "stream",
     "text": [
      "seq: Int8[8, 7, 6]\n",
      "rs: Main.RingStack.State{Int8}(5, Int8[6, 7, 8, 4, 5], 1)\n"
     ]
    }
   ],
   "source": [
    "let\n",
    "    seq = [RingStack.pop!(rs) for i in 1:3]\n",
    "\n",
    "    println(\"seq: $(seq)\")\n",
    "    println(\"rs: $(rs)\")\n",
    "\n",
    "    @assert seq == [8, 7, 6]\n",
    "    @assert rs.buffer == [6, 7, 8, 4, 5]\n",
    "    @assert rs.index == 1\n",
    "end"
   ]
  },
  {
   "cell_type": "code",
   "execution_count": 7,
   "metadata": {},
   "outputs": [
    {
     "name": "stdout",
     "output_type": "stream",
     "text": [
      "rs: Main.RingStack.State{Int8}(5, Int8[6, 7, 8, 4, 5], 1)\n"
     ]
    }
   ],
   "source": [
    "let\n",
    "    RingStack.moveHead!(rs, 2N)\n",
    "\n",
    "    println(\"rs: $(rs)\")\n",
    "    @assert rs.buffer == [6, 7, 8, 4, 5]\n",
    "    @assert rs.index == 1\n",
    "end"
   ]
  },
  {
   "cell_type": "code",
   "execution_count": 8,
   "metadata": {},
   "outputs": [
    {
     "name": "stdout",
     "output_type": "stream",
     "text": [
      "tail: Int8[8, 4, 5]\n",
      "rs: Main.RingStack.State{Int8}(5, Int8[6, 7, 8, 4, 5], 1)\n"
     ]
    }
   ],
   "source": [
    "let\n",
    "    tail = RingStack.copyTail!(rs, 3)\n",
    "\n",
    "    println(\"tail: $(tail)\")\n",
    "    println(\"rs: $(rs)\")\n",
    "\n",
    "    @assert tail == [8, 4, 5]\n",
    "    @assert rs.buffer == [6, 7, 8, 4, 5]\n",
    "    @assert rs.index == 1\n",
    "end"
   ]
  }
 ],
 "metadata": {
  "interpreter": {
   "hash": "b7e90cdc688d975e45ceff39e35a1807c9d10c57199d684be6857af7f3f0b86e"
  },
  "kernelspec": {
   "display_name": "Julia 1.7.2",
   "language": "julia",
   "name": "julia-1.7"
  },
  "language_info": {
   "file_extension": ".jl",
   "mimetype": "application/julia",
   "name": "julia",
   "version": "1.7.2"
  },
  "orig_nbformat": 4
 },
 "nbformat": 4,
 "nbformat_minor": 2
}
