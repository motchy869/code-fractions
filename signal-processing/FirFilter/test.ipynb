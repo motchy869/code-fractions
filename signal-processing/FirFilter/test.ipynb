{
 "cells": [
  {
   "cell_type": "code",
   "execution_count": 7,
   "metadata": {},
   "outputs": [
    {
     "name": "stderr",
     "output_type": "stream",
     "text": [
      "WARNING: replacing module FirFilter.\n"
     ]
    },
    {
     "data": {
      "text/plain": [
       "Main.FirFilter"
      ]
     },
     "execution_count": 7,
     "metadata": {},
     "output_type": "execute_result"
    }
   ],
   "source": [
    "include(\"FirFilter_0.0.1.jl\")"
   ]
  },
  {
   "cell_type": "code",
   "execution_count": 8,
   "metadata": {},
   "outputs": [],
   "source": [
    "coeffs = [1,2,3,2,1];\n",
    "vec_x_1 = [1,2,3,4,5,6]; # 1st input\n",
    "vec_x_2 = [7,8,9,10,11,12]; # 2nd input"
   ]
  },
  {
   "cell_type": "code",
   "execution_count": 9,
   "metadata": {},
   "outputs": [
    {
     "data": {
      "text/plain": [
       "1×12 transpose(::Vector{Int64}) with eltype Int64:\n",
       " 1  4  10  18  27  36  45  54  63  72  81  90"
      ]
     },
     "execution_count": 9,
     "metadata": {},
     "output_type": "execute_result"
    }
   ],
   "source": [
    "filter = FirFilter.State{Int}(coeffs)\n",
    "vec_y_1 = FirFilter.push(filter, vec_x_1)\n",
    "vec_y_2 = FirFilter.push(filter, vec_x_2)\n",
    "transpose(vcat(vec_y_1, vec_y_2))"
   ]
  },
  {
   "cell_type": "code",
   "execution_count": 10,
   "metadata": {},
   "outputs": [
    {
     "data": {
      "text/plain": [
       "1×16 transpose(::Vector{Int64}) with eltype Int64:\n",
       " 1  4  10  18  27  36  45  54  63  72  81  90  86  68  35  12"
      ]
     },
     "execution_count": 10,
     "metadata": {},
     "output_type": "execute_result"
    }
   ],
   "source": [
    "using DSP\n",
    "transpose(conv(coeffs, vcat(vec_x_1, vec_x_2)))"
   ]
  },
  {
   "cell_type": "code",
   "execution_count": null,
   "metadata": {},
   "outputs": [],
   "source": []
  }
 ],
 "metadata": {
  "kernelspec": {
   "display_name": "Julia 1.7.2",
   "language": "julia",
   "name": "julia-1.7"
  },
  "language_info": {
   "file_extension": ".jl",
   "mimetype": "application/julia",
   "name": "julia",
   "version": "1.7.2"
  },
  "orig_nbformat": 4
 },
 "nbformat": 4,
 "nbformat_minor": 2
}
